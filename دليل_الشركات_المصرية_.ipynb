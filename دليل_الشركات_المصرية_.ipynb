{
  "nbformat": 4,
  "nbformat_minor": 0,
  "metadata": {
    "colab": {
      "provenance": []
    },
    "kernelspec": {
      "name": "python3",
      "display_name": "Python 3"
    },
    "language_info": {
      "name": "python"
    }
  },
  "cells": [
    {
      "cell_type": "code",
      "execution_count": 1,
      "metadata": {
        "id": "OvLmlJ4q9twA"
      },
      "outputs": [],
      "source": [
        "import requests\n",
        "from bs4 import BeautifulSoup \n",
        "import csv\n",
        "from itertools import zip_longest \n",
        "import pandas as pd \n",
        "from tqdm import tqdm\n",
        "import time "
      ]
    },
    {
      "cell_type": "code",
      "source": [
        "Company_caegory_links=[]\n",
        "Company_city_links=[]\n",
        "company_name=[]\n",
        "company_category=[]\n",
        "company_city=[]\n",
        "company_activity=[]\n",
        "company_phone=[]\n",
        "company_link=[]"
      ],
      "metadata": {
        "id": "2ZFac5kd-Odb"
      },
      "execution_count": 2,
      "outputs": []
    },
    {
      "cell_type": "code",
      "source": [
        "main_link =\"https://www.egycompanies.com/\""
      ],
      "metadata": {
        "id": "vMoyLFSw-RTR"
      },
      "execution_count": 3,
      "outputs": []
    },
    {
      "cell_type": "code",
      "source": [
        "def find_categorys_city(main_link):\n",
        "  Company_caegory_links=[]\n",
        "  # Company_city_links=[]\n",
        "  request = requests.get(main_link)\n",
        "  src =request.content\n",
        "  soup =BeautifulSoup(src ,\"lxml\")\n",
        "  Company_city_soup=soup.find(\"div\",{\"id\":\"demozones\"}).find(\"section\").find(\"div\").find_all(\"p\")\n",
        "  Company_category_soup=soup.find(\"div\",{\"id\":\"demo\"}).find(\"section\").find(\"div\").find_all(\"p\")\n",
        "\n",
        "  for i in range(len(Company_city_soup)):\n",
        "      Company_caegory_links.append(Company_city_soup[i].find('a')['href'])\n",
        "  for i in range(len(Company_category_soup)):\n",
        "      Company_caegory_links.append(Company_category_soup[i].find('a')['href'])\n",
        "  return Company_caegory_links\n",
        "Company_caegory_links=find_categorys_city(main_link)\n"
      ],
      "metadata": {
        "id": "2nPG4E1k-Xgx"
      },
      "execution_count": 4,
      "outputs": []
    },
    {
      "cell_type": "code",
      "source": [],
      "metadata": {
        "id": "SxL72hGa-gf5"
      },
      "execution_count": null,
      "outputs": []
    },
    {
      "cell_type": "code",
      "source": [
        "len(Company_caegory_links)"
      ],
      "metadata": {
        "colab": {
          "base_uri": "https://localhost:8080/"
        },
        "id": "QmK2y1w6_OIA",
        "outputId": "f78e265a-d31d-4077-adc5-5df50fb9a4fe"
      },
      "execution_count": 6,
      "outputs": [
        {
          "output_type": "execute_result",
          "data": {
            "text/plain": [
              "32"
            ]
          },
          "metadata": {},
          "execution_count": 6
        }
      ]
    },
    {
      "cell_type": "code",
      "source": [
        "# collect data with category partitions \n",
        "for t in tqdm(range(0,len(Company_caegory_links))):\n",
        "  request = requests.get(Company_caegory_links[t])\n",
        "  src =request.content\n",
        "  soup =BeautifulSoup(src ,\"lxml\")\n",
        "  try:\n",
        "    citys_length =int(soup.find(\"li\",{\"id\":\"news_next\"}).find_all(\"a\")[1][\"href\"].split(\"=\")[1])\n",
        "  except:\n",
        "    citys_length=1\n",
        "  for j in range(1,citys_length+1):\n",
        "    request = requests.get(Company_caegory_links[t]+\"?page=\"+str(j))\n",
        "    src =request.content\n",
        "    soup =BeautifulSoup(src ,\"lxml\")\n",
        "    names=soup.find_all(\"h1\",{\"class\":\"f-listings-item__title\"})\n",
        "    phones=soup.find_all(\"address\",{\"class\":\"f-listings-item__address\"})\n",
        "    category=soup.find_all(\"ul\",{\"class\":\"wil-icon-list\"})\n",
        "    for i in range(len(names)):\n",
        "        company_name.append(names[i].text)\n",
        "        company_link.append(names[i].find(\"a\")[\"href\"])\n",
        "        company_phone.append(phones[i].text[1:-1].split(\"\\n\")[0])\n",
        "        try:\n",
        "          company_activity.append(phones[i].text[1:-1].split(\"\\n\")[1])\n",
        "        except:\n",
        "          company_activity.append(\" \")\n",
        "        company_category.append(category[0].find(\"li\").find(\"span\").find(\"h2\").text)"
      ],
      "metadata": {
        "colab": {
          "base_uri": "https://localhost:8080/"
        },
        "id": "8Fxz0EWt_QMw",
        "outputId": "a275b4d0-da58-48b2-b3ad-e7ddbde1cb5f"
      },
      "execution_count": 7,
      "outputs": [
        {
          "output_type": "stream",
          "name": "stderr",
          "text": [
            "100%|██████████| 32/32 [37:11<00:00, 69.74s/it]\n"
          ]
        }
      ]
    },
    {
      "cell_type": "code",
      "source": [
        "len(company_activity)"
      ],
      "metadata": {
        "colab": {
          "base_uri": "https://localhost:8080/"
        },
        "id": "Md8gyfmREhH4",
        "outputId": "6e12d10d-21df-49b7-fce9-938631c5fd38"
      },
      "execution_count": 8,
      "outputs": [
        {
          "output_type": "execute_result",
          "data": {
            "text/plain": [
              "16564"
            ]
          },
          "metadata": {},
          "execution_count": 8
        }
      ]
    },
    {
      "cell_type": "code",
      "source": [
        "request = requests.get(\"https://www.egycompanies.com/SearchR/1/Page/1/Zone/0/Industry/21/%D8%A7%D9%84%D9%88%D8%B1%D9%82-%D9%88%D8%A7%D9%84%D9%83%D8%B1%D8%AA%D9%88%D9%86\")\n",
        "src =request.content\n",
        "soup =BeautifulSoup(src ,\"lxml\")\n",
        "names=soup.find_all(\"h1\",{\"class\":\"f-listings-item__title\"})\n",
        "phones=soup.find_all(\"address\",{\"class\":\"f-listings-item__address\"})\n",
        "category=soup.find_all(\"ul\",{\"class\":\"wil-icon-list\"})\n",
        "phones[].text[1:-1].split(\"\\n\")[1]"
      ],
      "metadata": {
        "id": "sR1cNHnm_l8S",
        "colab": {
          "base_uri": "https://localhost:8080/",
          "height": 35
        },
        "outputId": "bfaef9a2-bf5c-4381-d936-4f9618f0b5ec"
      },
      "execution_count": null,
      "outputs": [
        {
          "output_type": "execute_result",
          "data": {
            "text/plain": [
              "' النشاط:   لوازم محطات معالجة مياه'"
            ],
            "application/vnd.google.colaboratory.intrinsic+json": {
              "type": "string"
            }
          },
          "metadata": {},
          "execution_count": 15
        }
      ]
    },
    {
      "cell_type": "code",
      "source": [
        "category[0].find(\"li\").find(\"span\").find(\"h2\").text#[1:].split(\"\\n\")[0][:-3].strip()"
      ],
      "metadata": {
        "colab": {
          "base_uri": "https://localhost:8080/",
          "height": 35
        },
        "id": "sNh-ZEpyhaOc",
        "outputId": "06ddb2cb-1302-4a10-8bc6-a396c6f58ccb"
      },
      "execution_count": null,
      "outputs": [
        {
          "output_type": "execute_result",
          "data": {
            "text/plain": [
              "'معالجة المياه والفلاتر'"
            ],
            "application/vnd.google.colaboratory.intrinsic+json": {
              "type": "string"
            }
          },
          "metadata": {},
          "execution_count": 19
        }
      ]
    },
    {
      "cell_type": "code",
      "source": [
        "df=pd.DataFrame({\n",
        "    \"company_name\":company_name,\n",
        "    \"company_phone\":company_phone,\n",
        "    \"company_category\":company_category,\n",
        "    # \"company_city\":company_city,\n",
        "    \"company_activity\":company_activity,\n",
        "    \"company_link\":company_link\n",
        "})\n",
        "df\n"
      ],
      "metadata": {
        "id": "ZypZPby7hl4q",
        "colab": {
          "base_uri": "https://localhost:8080/",
          "height": 641
        },
        "outputId": "146a9845-c3b9-4a5d-a003-9a8cc419dcf6"
      },
      "execution_count": 9,
      "outputs": [
        {
          "output_type": "execute_result",
          "data": {
            "text/plain": [
              "                                            company_name  \\\n",
              "0                الجمعية التعاونية للأدوية | أدوية بشرية   \n",
              "1      الشركة الحديثة للتجارة | أدوية بشرية - مستلزما...   \n",
              "2      الشركة العربية للصناعات الدقيقة - أبيك | أجهزة...   \n",
              "3      الشركة العربية لمستحضرات التجميل | مستحضرات تج...   \n",
              "4             الشركة العلمية للمعدات الطبية | معدات طبية   \n",
              "...                                                  ...   \n",
              "16559            مجموعة شركات المنار | وحدات معالجة مياه   \n",
              "16560  معرض التوأم لتجارة المولدات ومعدات البناء | طل...   \n",
              "16561  معرض مصر الدولي لأحواض السباحة وتكنولوجيا المي...   \n",
              "16562  مكتب القاهرة الفني الهندسي | حفر آبار مياه - ط...   \n",
              "16563  مكتب محمود علي إبراهيم | فلاتر مياه - أجهزة علمية   \n",
              "\n",
              "                      company_phone        company_category  \\\n",
              "0       هاتف الإدارة:   0504673762   أدوية وتجميل ومستلزمات   \n",
              "1        هاتف الإدارة:   0482221294  أدوية وتجميل ومستلزمات   \n",
              "2        هاتف الشركة:   0244893437   أدوية وتجميل ومستلزمات   \n",
              "3       هاتف الإدارة:   0237829309   أدوية وتجميل ومستلزمات   \n",
              "4        هاتف الإدارة:   0222561307  أدوية وتجميل ومستلزمات   \n",
              "...                             ...                     ...   \n",
              "16559   هاتف الإدارة:   0224052387   معالجة المياه والفلاتر   \n",
              "16560      الموبيل:   01225197779    معالجة المياه والفلاتر   \n",
              "16561   هاتف الإدارة:    0233842040  معالجة المياه والفلاتر   \n",
              "16562   هاتف الإدارة:   0225905454   معالجة المياه والفلاتر   \n",
              "16563   هاتف الإدارة:   0233024488   معالجة المياه والفلاتر   \n",
              "\n",
              "                                        company_activity  \\\n",
              "0                                  النشاط:   أدوية بشرية   \n",
              "1                  النشاط:   أدوية بشرية - مستلزمات طبية   \n",
              "2                             النشاط:   أجهزة أشعة سينية   \n",
              "3       النشاط:   مستحضرات تجميل - كريمات بشرة - كريم...   \n",
              "4                                   النشاط:   معدات طبية   \n",
              "...                                                  ...   \n",
              "16559                        النشاط:   وحدات معالجة مياه   \n",
              "16560             النشاط:   طلمبات مياه - مولدات كهرباء    \n",
              "16561                       النشاط:   معدات حمامات سباحة   \n",
              "16562              النشاط:   حفر آبار مياه - طلمبات مياه   \n",
              "16563                 النشاط:   فلاتر مياه - أجهزة علمية   \n",
              "\n",
              "                                            company_link  \n",
              "0      https://www.egycompanies.com/SearchR/1/Page/1/...  \n",
              "1      https://www.egycompanies.com/SearchR/1/Page/1/...  \n",
              "2      https://www.egycompanies.com/SearchR/1/Page/1/...  \n",
              "3      https://www.egycompanies.com/SearchR/1/Page/1/...  \n",
              "4      https://www.egycompanies.com/SearchR/1/Page/1/...  \n",
              "...                                                  ...  \n",
              "16559  https://www.egycompanies.com/SearchR/1/Page/1/...  \n",
              "16560  https://www.egycompanies.com/SearchR/1/Page/1/...  \n",
              "16561  https://www.egycompanies.com/SearchR/1/Page/1/...  \n",
              "16562  https://www.egycompanies.com/SearchR/1/Page/1/...  \n",
              "16563  https://www.egycompanies.com/SearchR/1/Page/1/...  \n",
              "\n",
              "[16564 rows x 5 columns]"
            ],
            "text/html": [
              "\n",
              "  <div id=\"df-5a4564f5-2c8f-476b-96c5-0d0c31b038c4\">\n",
              "    <div class=\"colab-df-container\">\n",
              "      <div>\n",
              "<style scoped>\n",
              "    .dataframe tbody tr th:only-of-type {\n",
              "        vertical-align: middle;\n",
              "    }\n",
              "\n",
              "    .dataframe tbody tr th {\n",
              "        vertical-align: top;\n",
              "    }\n",
              "\n",
              "    .dataframe thead th {\n",
              "        text-align: right;\n",
              "    }\n",
              "</style>\n",
              "<table border=\"1\" class=\"dataframe\">\n",
              "  <thead>\n",
              "    <tr style=\"text-align: right;\">\n",
              "      <th></th>\n",
              "      <th>company_name</th>\n",
              "      <th>company_phone</th>\n",
              "      <th>company_category</th>\n",
              "      <th>company_activity</th>\n",
              "      <th>company_link</th>\n",
              "    </tr>\n",
              "  </thead>\n",
              "  <tbody>\n",
              "    <tr>\n",
              "      <th>0</th>\n",
              "      <td>الجمعية التعاونية للأدوية | أدوية بشرية</td>\n",
              "      <td>هاتف الإدارة:   0504673762</td>\n",
              "      <td>أدوية وتجميل ومستلزمات</td>\n",
              "      <td>النشاط:   أدوية بشرية</td>\n",
              "      <td>https://www.egycompanies.com/SearchR/1/Page/1/...</td>\n",
              "    </tr>\n",
              "    <tr>\n",
              "      <th>1</th>\n",
              "      <td>الشركة الحديثة للتجارة | أدوية بشرية - مستلزما...</td>\n",
              "      <td>هاتف الإدارة:   0482221294</td>\n",
              "      <td>أدوية وتجميل ومستلزمات</td>\n",
              "      <td>النشاط:   أدوية بشرية - مستلزمات طبية</td>\n",
              "      <td>https://www.egycompanies.com/SearchR/1/Page/1/...</td>\n",
              "    </tr>\n",
              "    <tr>\n",
              "      <th>2</th>\n",
              "      <td>الشركة العربية للصناعات الدقيقة - أبيك | أجهزة...</td>\n",
              "      <td>هاتف الشركة:   0244893437</td>\n",
              "      <td>أدوية وتجميل ومستلزمات</td>\n",
              "      <td>النشاط:   أجهزة أشعة سينية</td>\n",
              "      <td>https://www.egycompanies.com/SearchR/1/Page/1/...</td>\n",
              "    </tr>\n",
              "    <tr>\n",
              "      <th>3</th>\n",
              "      <td>الشركة العربية لمستحضرات التجميل | مستحضرات تج...</td>\n",
              "      <td>هاتف الإدارة:   0237829309</td>\n",
              "      <td>أدوية وتجميل ومستلزمات</td>\n",
              "      <td>النشاط:   مستحضرات تجميل - كريمات بشرة - كريم...</td>\n",
              "      <td>https://www.egycompanies.com/SearchR/1/Page/1/...</td>\n",
              "    </tr>\n",
              "    <tr>\n",
              "      <th>4</th>\n",
              "      <td>الشركة العلمية للمعدات الطبية | معدات طبية</td>\n",
              "      <td>هاتف الإدارة:   0222561307</td>\n",
              "      <td>أدوية وتجميل ومستلزمات</td>\n",
              "      <td>النشاط:   معدات طبية</td>\n",
              "      <td>https://www.egycompanies.com/SearchR/1/Page/1/...</td>\n",
              "    </tr>\n",
              "    <tr>\n",
              "      <th>...</th>\n",
              "      <td>...</td>\n",
              "      <td>...</td>\n",
              "      <td>...</td>\n",
              "      <td>...</td>\n",
              "      <td>...</td>\n",
              "    </tr>\n",
              "    <tr>\n",
              "      <th>16559</th>\n",
              "      <td>مجموعة شركات المنار | وحدات معالجة مياه</td>\n",
              "      <td>هاتف الإدارة:   0224052387</td>\n",
              "      <td>معالجة المياه والفلاتر</td>\n",
              "      <td>النشاط:   وحدات معالجة مياه</td>\n",
              "      <td>https://www.egycompanies.com/SearchR/1/Page/1/...</td>\n",
              "    </tr>\n",
              "    <tr>\n",
              "      <th>16560</th>\n",
              "      <td>معرض التوأم لتجارة المولدات ومعدات البناء | طل...</td>\n",
              "      <td>الموبيل:   01225197779</td>\n",
              "      <td>معالجة المياه والفلاتر</td>\n",
              "      <td>النشاط:   طلمبات مياه - مولدات كهرباء</td>\n",
              "      <td>https://www.egycompanies.com/SearchR/1/Page/1/...</td>\n",
              "    </tr>\n",
              "    <tr>\n",
              "      <th>16561</th>\n",
              "      <td>معرض مصر الدولي لأحواض السباحة وتكنولوجيا المي...</td>\n",
              "      <td>هاتف الإدارة:    0233842040</td>\n",
              "      <td>معالجة المياه والفلاتر</td>\n",
              "      <td>النشاط:   معدات حمامات سباحة</td>\n",
              "      <td>https://www.egycompanies.com/SearchR/1/Page/1/...</td>\n",
              "    </tr>\n",
              "    <tr>\n",
              "      <th>16562</th>\n",
              "      <td>مكتب القاهرة الفني الهندسي | حفر آبار مياه - ط...</td>\n",
              "      <td>هاتف الإدارة:   0225905454</td>\n",
              "      <td>معالجة المياه والفلاتر</td>\n",
              "      <td>النشاط:   حفر آبار مياه - طلمبات مياه</td>\n",
              "      <td>https://www.egycompanies.com/SearchR/1/Page/1/...</td>\n",
              "    </tr>\n",
              "    <tr>\n",
              "      <th>16563</th>\n",
              "      <td>مكتب محمود علي إبراهيم | فلاتر مياه - أجهزة علمية</td>\n",
              "      <td>هاتف الإدارة:   0233024488</td>\n",
              "      <td>معالجة المياه والفلاتر</td>\n",
              "      <td>النشاط:   فلاتر مياه - أجهزة علمية</td>\n",
              "      <td>https://www.egycompanies.com/SearchR/1/Page/1/...</td>\n",
              "    </tr>\n",
              "  </tbody>\n",
              "</table>\n",
              "<p>16564 rows × 5 columns</p>\n",
              "</div>\n",
              "      <button class=\"colab-df-convert\" onclick=\"convertToInteractive('df-5a4564f5-2c8f-476b-96c5-0d0c31b038c4')\"\n",
              "              title=\"Convert this dataframe to an interactive table.\"\n",
              "              style=\"display:none;\">\n",
              "        \n",
              "  <svg xmlns=\"http://www.w3.org/2000/svg\" height=\"24px\"viewBox=\"0 0 24 24\"\n",
              "       width=\"24px\">\n",
              "    <path d=\"M0 0h24v24H0V0z\" fill=\"none\"/>\n",
              "    <path d=\"M18.56 5.44l.94 2.06.94-2.06 2.06-.94-2.06-.94-.94-2.06-.94 2.06-2.06.94zm-11 1L8.5 8.5l.94-2.06 2.06-.94-2.06-.94L8.5 2.5l-.94 2.06-2.06.94zm10 10l.94 2.06.94-2.06 2.06-.94-2.06-.94-.94-2.06-.94 2.06-2.06.94z\"/><path d=\"M17.41 7.96l-1.37-1.37c-.4-.4-.92-.59-1.43-.59-.52 0-1.04.2-1.43.59L10.3 9.45l-7.72 7.72c-.78.78-.78 2.05 0 2.83L4 21.41c.39.39.9.59 1.41.59.51 0 1.02-.2 1.41-.59l7.78-7.78 2.81-2.81c.8-.78.8-2.07 0-2.86zM5.41 20L4 18.59l7.72-7.72 1.47 1.35L5.41 20z\"/>\n",
              "  </svg>\n",
              "      </button>\n",
              "      \n",
              "  <style>\n",
              "    .colab-df-container {\n",
              "      display:flex;\n",
              "      flex-wrap:wrap;\n",
              "      gap: 12px;\n",
              "    }\n",
              "\n",
              "    .colab-df-convert {\n",
              "      background-color: #E8F0FE;\n",
              "      border: none;\n",
              "      border-radius: 50%;\n",
              "      cursor: pointer;\n",
              "      display: none;\n",
              "      fill: #1967D2;\n",
              "      height: 32px;\n",
              "      padding: 0 0 0 0;\n",
              "      width: 32px;\n",
              "    }\n",
              "\n",
              "    .colab-df-convert:hover {\n",
              "      background-color: #E2EBFA;\n",
              "      box-shadow: 0px 1px 2px rgba(60, 64, 67, 0.3), 0px 1px 3px 1px rgba(60, 64, 67, 0.15);\n",
              "      fill: #174EA6;\n",
              "    }\n",
              "\n",
              "    [theme=dark] .colab-df-convert {\n",
              "      background-color: #3B4455;\n",
              "      fill: #D2E3FC;\n",
              "    }\n",
              "\n",
              "    [theme=dark] .colab-df-convert:hover {\n",
              "      background-color: #434B5C;\n",
              "      box-shadow: 0px 1px 3px 1px rgba(0, 0, 0, 0.15);\n",
              "      filter: drop-shadow(0px 1px 2px rgba(0, 0, 0, 0.3));\n",
              "      fill: #FFFFFF;\n",
              "    }\n",
              "  </style>\n",
              "\n",
              "      <script>\n",
              "        const buttonEl =\n",
              "          document.querySelector('#df-5a4564f5-2c8f-476b-96c5-0d0c31b038c4 button.colab-df-convert');\n",
              "        buttonEl.style.display =\n",
              "          google.colab.kernel.accessAllowed ? 'block' : 'none';\n",
              "\n",
              "        async function convertToInteractive(key) {\n",
              "          const element = document.querySelector('#df-5a4564f5-2c8f-476b-96c5-0d0c31b038c4');\n",
              "          const dataTable =\n",
              "            await google.colab.kernel.invokeFunction('convertToInteractive',\n",
              "                                                     [key], {});\n",
              "          if (!dataTable) return;\n",
              "\n",
              "          const docLinkHtml = 'Like what you see? Visit the ' +\n",
              "            '<a target=\"_blank\" href=https://colab.research.google.com/notebooks/data_table.ipynb>data table notebook</a>'\n",
              "            + ' to learn more about interactive tables.';\n",
              "          element.innerHTML = '';\n",
              "          dataTable['output_type'] = 'display_data';\n",
              "          await google.colab.output.renderOutput(dataTable, element);\n",
              "          const docLink = document.createElement('div');\n",
              "          docLink.innerHTML = docLinkHtml;\n",
              "          element.appendChild(docLink);\n",
              "        }\n",
              "      </script>\n",
              "    </div>\n",
              "  </div>\n",
              "  "
            ]
          },
          "metadata": {},
          "execution_count": 9
        }
      ]
    },
    {
      "cell_type": "code",
      "source": [
        "df.to_excel(\" دليل الشركات المصرية نسخة القطاعات التجارية .xlsx\")"
      ],
      "metadata": {
        "id": "ViVznSOBTavk"
      },
      "execution_count": 10,
      "outputs": []
    }
  ]
}